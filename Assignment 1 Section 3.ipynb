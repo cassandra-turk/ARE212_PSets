{
 "cells": [
  {
   "cell_type": "markdown",
   "id": "2fd09d88",
   "metadata": {},
   "source": [
    "Prove the convolution of a continuous distribution and a discrete distribution must have a continuous distribution\n"
   ]
  },
  {
   "cell_type": "markdown",
   "id": "41aae7b6",
   "metadata": {},
   "source": [
    "Consider two distributions: $d(x)$ which is discrete, and $c(y)$ which is continuous. The CDF of the convolution $F(z)$ is given by:\n",
    "\n",
    "$$F(z) = \\sum_{n} D(x_n)C(z-x_n)$$\n",
    "\n",
    "while the PDF $f(z)$ is given by:\n",
    "\n",
    "$$f(z) = \\sum_{n} d(x_n)c(z-x_n)$$\n",
    "\n"
   ]
  },
  {
   "cell_type": "markdown",
   "id": "eee6a21c",
   "metadata": {},
   "source": [
    "$f(z)$ is continuous if for all $\\epsilon > 0$, \n",
    "$$|a-b| < \\epsilon$$ \n",
    "implies there exists $\\delta > 0$ such that:\n",
    "\n",
    "$$|f(a)-f(b)| < \\delta$$"
   ]
  },
  {
   "cell_type": "markdown",
   "id": "249f880a",
   "metadata": {},
   "source": [
    "We have that $d(x_n) \\le 1$ for all $x_n$, and $c(y) \\le 1$ for all $y =x_n$\n",
    "\n",
    "$d(x_n)$ being discrete also implies that $N$ is finite; that is:\n",
    "\n",
    "$$d(x_n) \\le M/N$$\n",
    "\n",
    "for some finite $M$.\n",
    "\n",
    "We then rearrange:\n",
    "\n",
    "$$f(z) = \\sum_{n} d(x_n)c(z-x_n) \\le \\sum_{n}\\frac{M}{N}c(z-x_n) \\le M\\sum_{n}c(z-x_n)$$\n",
    "\n",
    "$c(y)$ is continuous means that for all $\\epsilon > 0$, \n",
    "$$|a-b| < \\epsilon$$ \n",
    "implies there exists $\\rho > 0$ such that:\n",
    "$$|c(a)-c(b)| < \\rho$$\n",
    "\n",
    "So for all $a$, $b$, we have that: \n",
    "\n",
    "$$|f(a)-f(b)| = |\\sum_{n} d(x_n)c(a-x_n) - \\sum_{n} d(x_n)c(b-x_n)| \\le M\\sum_{n}|c(a-x_n)-c(b-x_n)| \\le M\\sum_{n}\\rho$$\n",
    "\n",
    "We choose $\\delta = M\\sum_{n}\\rho$ and the proof is complete."
   ]
  },
  {
   "cell_type": "code",
   "execution_count": 1,
   "id": "2da690e4",
   "metadata": {},
   "outputs": [],
   "source": [
    "from scipy.stats import distributions as iid\n",
    "from scipy.integrate import quad"
   ]
  },
  {
   "cell_type": "code",
   "execution_count": 2,
   "id": "d3e93406",
   "metadata": {},
   "outputs": [],
   "source": [
    "import numpy as np"
   ]
  },
  {
   "cell_type": "code",
   "execution_count": 15,
   "id": "25ddbbc8",
   "metadata": {},
   "outputs": [],
   "source": [
    "%matplotlib inline\n",
    "import matplotlib.pyplot as plt\n",
    "import pandas as pd"
   ]
  },
  {
   "cell_type": "code",
   "execution_count": 4,
   "id": "3dd375ca",
   "metadata": {},
   "outputs": [],
   "source": [
    "Omega = (-1,0,1)\n",
    "Pr = (1/3.,1/2.,1/6.)\n",
    "\n",
    "my_discrete_distrib1 = iid.rv_discrete(values=(Omega,Pr))\n",
    "\n",
    "Omega = (1,2,4)\n",
    "Pr = (1/2.,1/3.,1/6.)\n",
    "\n",
    "my_discrete_distrib2 = iid.rv_discrete(values=(Omega,Pr))"
   ]
  },
  {
   "cell_type": "code",
   "execution_count": 5,
   "id": "d6d067ab",
   "metadata": {},
   "outputs": [],
   "source": [
    "#Question 2"
   ]
  },
  {
   "cell_type": "code",
   "execution_count": 6,
   "id": "7144c0fc",
   "metadata": {},
   "outputs": [],
   "source": [
    "class ConvolvedDiscreteAndDiscrete(iid.rv_discrete):\n",
    "    \"\"\"Convolve (add) a discrete rv x and a discrete rv s,\n",
    "       returning the resulting cdf.\"\"\"\n",
    "\n",
    "    def __init__(self,X,Y):\n",
    "        self.X = X\n",
    "        self.Y = Y\n",
    "        super(ConvolvedDiscreteAndDiscrete, self).__init__(name=\"ConvolvedDiscreteAndDiscrete\")\n",
    "\n",
    "        \n",
    "    def pmf(self,z):\n",
    "        # Start at 0\n",
    "        F=0\n",
    "        # Grab our random variables via self.\n",
    "        y = self.Y\n",
    "        x = self.X\n",
    "        \n",
    "        for k in range(len(y.xk)):\n",
    "            # (starting at 0...) iteratively add P(x_n)*CDF(z-x_n)\n",
    "            # is z-x_n in the y vector?\n",
    "            if z - x.xk[k] in y.xk:\n",
    "                # if so, return probability of that y:\n",
    "                p_y = y.pk[np.where(y.xk == z - x.xk[k])] # np.where() returns the index where y.xk == z - x_n\n",
    "            else:\n",
    "                # if that is not in the y_n's, then the probability is 0.\n",
    "                p_y = 0\n",
    "            F = F + p_y*x.pk[k]\n",
    "        return F       \n",
    "    \n",
    "    def cmf(self,z):\n",
    "        # Start at 0\n",
    "        F=0\n",
    "        # Grab our random variables via self.\n",
    "        y = self.Y\n",
    "        x = self.X\n",
    "        for k in range(len(x.xk)):\n",
    "            F = F + y.cdf(z-x.xk[k])*x.pk[k]\n",
    "        return F\n",
    "\n",
    "     "
   ]
  },
  {
   "cell_type": "code",
   "execution_count": 7,
   "id": "dafcaff7",
   "metadata": {},
   "outputs": [],
   "source": [
    "my_convolution = ConvolvedDiscreteAndDiscrete(my_discrete_distrib1, my_discrete_distrib2)"
   ]
  },
  {
   "cell_type": "code",
   "execution_count": 8,
   "id": "b7aedca3",
   "metadata": {},
   "outputs": [
    {
     "data": {
      "text/plain": [
       "0.9999999999999999"
      ]
     },
     "execution_count": 8,
     "metadata": {},
     "output_type": "execute_result"
    }
   ],
   "source": [
    "my_convolution.cmf(5)"
   ]
  },
  {
   "cell_type": "code",
   "execution_count": 9,
   "id": "a5f65631",
   "metadata": {},
   "outputs": [
    {
     "data": {
      "text/plain": [
       "array([0.11111111])"
      ]
     },
     "execution_count": 9,
     "metadata": {},
     "output_type": "execute_result"
    }
   ],
   "source": [
    "my_convolution.pmf(3)"
   ]
  },
  {
   "cell_type": "code",
   "execution_count": 18,
   "id": "68ea3b02",
   "metadata": {},
   "outputs": [
    {
     "data": {
      "text/plain": [
       "[<matplotlib.lines.Line2D at 0x7fa45a58c3a0>]"
      ]
     },
     "execution_count": 18,
     "metadata": {},
     "output_type": "execute_result"
    },
    {
     "data": {
      "image/png": "[encoded data removed]",
      "text/plain": [
       "<Figure size 432x288 with 1 Axes>"
      ]
     },
     "metadata": {
      "needs_background": "light"
     },
     "output_type": "display_data"
    }
   ],
   "source": [
    "#graph to show it works !! (:\n",
    "import plotly.graph_objects as go\n",
    "import numpy as np\n",
    "\n",
    "X = pd.Series(np.linspace(-4,4,1000).tolist())\n",
    "\n",
    "fig, ax = plt.subplots()\n",
    "ax.plot(X, X.apply(lambda z: my_convolution.cmf(z)))"
   ]
  },
  {
   "cell_type": "code",
   "execution_count": null,
   "id": "50908983",
   "metadata": {},
   "outputs": [],
   "source": [
    "#Question 3\n",
    "\n",
    "#note: this method only works well for distributions with well-defined integrals\n",
    "#and with high probability mass density in a local part of the graph"
   ]
  },
  {
   "cell_type": "code",
   "execution_count": 19,
   "id": "42fa00f0",
   "metadata": {},
   "outputs": [],
   "source": [
    "my_continuous_distrib1 = iid.norm()\n",
    "my_continuous_distrib2 = iid.norm(2,1)"
   ]
  },
  {
   "cell_type": "code",
   "execution_count": 27,
   "id": "5fb2f430",
   "metadata": {},
   "outputs": [],
   "source": [
    "class ConvolvedContinuousAndCont(iid.rv_continuous):\n",
    "   \n",
    "    y = np.linspace(-10,10,50).tolist()\n",
    "\n",
    "    def __init__(self,f,s):\n",
    "        self.continuous_rv = f\n",
    "        self.discrete_rv = s\n",
    "        super(ConvolvedContinuousAndCont, self).__init__(name=\"ConvolvedContinuousAndCont\")\n",
    "        \n",
    "    def cmf(self,z):\n",
    "        F=0\n",
    "        s = self.discrete_rv\n",
    "        x = self.continuous_rv\n",
    "        integrand = lambda k,l: x.cdf(l-k)*s.pdf(k)\n",
    "        bias = lambda l: quad(lambda k: integrand(k,l),a=-100, b=100)\n",
    "        return bias(l=z)[0]\n",
    "\n",
    "    def pmf(self,z):\n",
    "        f=0\n",
    "        s = self.discrete_rv\n",
    "        x = self.continuous_rv\n",
    "        integrand = lambda k,l: x.pdf(l-k)*s.pdf(k)\n",
    "        bias = lambda l: quad(lambda k: integrand(k,l),a=-100, b=100)\n",
    "        return bias(l=z)[0]\n"
   ]
  },
  {
   "cell_type": "code",
   "execution_count": 28,
   "id": "99490a92",
   "metadata": {},
   "outputs": [
    {
     "name": "stdout",
     "output_type": "stream",
     "text": [
      "0.2196956447338613\n",
      "0.21971223238070992\n"
     ]
    }
   ],
   "source": [
    "my_convolution = ConvolvedContinuousAndCont(my_continuous_distrib1, my_continuous_distrib2)\n",
    "print(my_convolution.pmf(1))\n",
    "print(iid.norm(0,1.414).pdf(1))\n",
    "#checking some stuff (:"
   ]
  },
  {
   "cell_type": "code",
   "execution_count": 29,
   "id": "7e9673ca",
   "metadata": {},
   "outputs": [
    {
     "data": {
      "text/plain": [
       "[<matplotlib.lines.Line2D at 0x7fa4789d01c0>]"
      ]
     },
     "execution_count": 29,
     "metadata": {},
     "output_type": "execute_result"
    },
    {
     "data": {
      "image/png": "[encoded data removed]",
      "text/plain": [
       "<Figure size 432x288 with 1 Axes>"
      ]
     },
     "metadata": {
      "needs_background": "light"
     },
     "output_type": "display_data"
    }
   ],
   "source": [
    "X = pd.Series(np.linspace(-10,10,200).tolist())\n",
    "\n",
    "fig, ax = plt.subplots()\n",
    "ax.plot(X, X.apply(lambda z: my_convolution.cmf(z)))"
   ]
  },
  {
   "cell_type": "code",
   "execution_count": 30,
   "id": "dc66b4fd",
   "metadata": {},
   "outputs": [
    {
     "data": {
      "text/plain": [
       "[<matplotlib.lines.Line2D at 0x7fa459f0bfd0>]"
      ]
     },
     "execution_count": 30,
     "metadata": {},
     "output_type": "execute_result"
    },
    {
     "data": {
      "image/png": "[encoded data removed]",
      "text/plain": [
       "<Figure size 432x288 with 1 Axes>"
      ]
     },
     "metadata": {
      "needs_background": "light"
     },
     "output_type": "display_data"
    }
   ],
   "source": [
    "X = pd.Series(np.linspace(-10,10,200).tolist())\n",
    "\n",
    "fig, ax = plt.subplots()\n",
    "ax.plot(X, X.apply(lambda z: my_convolution.pmf(z)))"
   ]
  },
  {
   "cell_type": "code",
   "execution_count": null,
   "id": "7c26ed82",
   "metadata": {},
   "outputs": [],
   "source": []
  }
 ],
 "metadata": {
  "kernelspec": {
   "display_name": "Python 3",
   "language": "python",
   "name": "python3"
  },
  "language_info": {
   "codemirror_mode": {
    "name": "ipython",
    "version": 3
   },
   "file_extension": ".py",
   "mimetype": "text/x-python",
   "name": "python",
   "nbconvert_exporter": "python",
   "pygments_lexer": "ipython3",
   "version": "3.8.8"
  }
 },
 "nbformat": 4,
 "nbformat_minor": 5
}
